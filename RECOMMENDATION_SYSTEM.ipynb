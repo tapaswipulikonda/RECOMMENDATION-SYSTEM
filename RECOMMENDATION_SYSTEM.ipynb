{
  "nbformat": 4,
  "nbformat_minor": 0,
  "metadata": {
    "colab": {
      "provenance": []
    },
    "kernelspec": {
      "name": "python3",
      "display_name": "Python 3"
    },
    "language_info": {
      "name": "python"
    }
  },
  "cells": [
    {
      "cell_type": "code",
      "execution_count": 2,
      "metadata": {
        "colab": {
          "base_uri": "https://localhost:8080/"
        },
        "id": "0Xrj9g0dtNlk",
        "outputId": "709647ab-fab8-4559-f70d-64c039ab53d7"
      },
      "outputs": [
        {
          "output_type": "stream",
          "name": "stdout",
          "text": [
            "Requirement already satisfied: surprise in /usr/local/lib/python3.11/dist-packages (0.1)\n",
            "Requirement already satisfied: scikit-surprise in /usr/local/lib/python3.11/dist-packages (from surprise) (1.1.4)\n",
            "Requirement already satisfied: joblib>=1.2.0 in /usr/local/lib/python3.11/dist-packages (from scikit-surprise->surprise) (1.5.1)\n",
            "Requirement already satisfied: numpy>=1.19.5 in /usr/local/lib/python3.11/dist-packages (from scikit-surprise->surprise) (1.26.4)\n",
            "Requirement already satisfied: scipy>=1.6.0 in /usr/local/lib/python3.11/dist-packages (from scikit-surprise->surprise) (1.15.3)\n",
            "Requirement already satisfied: numpy<2 in /usr/local/lib/python3.11/dist-packages (1.26.4)\n",
            "RMSE: 1.3031\n",
            "Recommend MovieID 30 with predicted rating 3.61\n",
            "Recommend MovieID 20 with predicted rating 3.55\n",
            "Recommend MovieID 40 with predicted rating 3.50\n",
            "Recommend MovieID 10 with predicted rating 3.46\n",
            "Recommend MovieID 70 with predicted rating 3.42\n"
          ]
        }
      ],
      "source": [
        "!pip install surprise\n",
        "!pip install \"numpy<2\"\n",
        "import pandas as pd\n",
        "from surprise import Dataset, Reader\n",
        "\n",
        "# Load dataset\n",
        "df = pd.read_csv('/content/sample_data/Ratings.csv')  # Should contain userId, itemId, rating\n",
        "\n",
        "# Prepare for surprise\n",
        "reader = Reader(rating_scale=(0.5, 5.0))\n",
        "data = Dataset.load_from_df(df[['userId', 'movieId', 'rating']], reader)\n",
        "from surprise import SVD\n",
        "from surprise.model_selection import train_test_split\n",
        "from surprise import accuracy\n",
        "\n",
        "# Train-test split\n",
        "trainset, testset = train_test_split(data, test_size=0.2)\n",
        "\n",
        "# Initialize and train model\n",
        "model = SVD()\n",
        "model.fit(trainset)\n",
        "\n",
        "# Predict\n",
        "predictions = model.test(testset)\n",
        "\n",
        "# Evaluate\n",
        "accuracy.rmse(predictions)\n",
        "# Recommend top 5 movies for user 1\n",
        "user_id = 1\n",
        "item_ids = df['movieId'].unique()\n",
        "\n",
        "user_predictions = [model.predict(user_id, iid) for iid in item_ids]\n",
        "top_recs = sorted(user_predictions, key=lambda x: x.est, reverse=True)[:5]\n",
        "\n",
        "for pred in top_recs:\n",
        "    print(f\"Recommend MovieID {pred.iid} with predicted rating {pred.est:.2f}\")"
      ]
    }
  ]
}